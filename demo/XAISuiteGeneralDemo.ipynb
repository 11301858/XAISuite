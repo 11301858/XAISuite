{
 "cells": [
  {
   "cell_type": "markdown",
   "id": "3798025c",
   "metadata": {},
   "source": [
    "# XAISuite General Demo"
   ]
  },
  {
   "cell_type": "markdown",
   "id": "34ab6d88",
   "metadata": {},
   "source": [
    "Welcome to the XAISuite General Demo. Here you'll find countless examples about how to use XAISuite for easier machine learning model training, explanation, and explanation comparison.\n",
    "\n",
    "First, start by installing the XAISuite library.\n",
    "\n",
    "`!pip install XAISuite==2.8.3`\n",
    "\n",
    "Then, import the library. You may need to restart runtime for this to work correctly."
   ]
  },
  {
   "cell_type": "code",
   "execution_count": null,
   "id": "d895f93f",
   "metadata": {},
   "outputs": [],
   "source": [
    "from xaisuite import*"
   ]
  },
  {
   "cell_type": "markdown",
   "id": "852677f9",
   "metadata": {},
   "source": [
    "Run the following code to see a mini doc of XAISuite classes and functions."
   ]
  },
  {
   "cell_type": "code",
   "execution_count": null,
   "id": "36183c71",
   "metadata": {},
   "outputs": [],
   "source": [
    "help(DataLoader)\n",
    "help(DataProcessor)\n",
    "help(ModelTrainer)\n",
    "help(InsightGenerator)"
   ]
  },
  {
   "cell_type": "markdown",
   "id": "a236c1c7",
   "metadata": {},
   "source": [
    "Let's first start with Data Loading. The `xaisuite.dataHandler.DataLoader `class allows loading of data from different sources."
   ]
  },
  {
   "cell_type": "code",
   "execution_count": null,
   "id": "8348bdc4",
   "metadata": {},
   "outputs": [],
   "source": [
    "DataLoader(make_classification)"
   ]
  },
  {
   "cell_type": "code",
   "execution_count": null,
   "id": "a296246d",
   "metadata": {},
   "outputs": [],
   "source": [
    "DataLoader(load_diabetes, return_X_y = True)"
   ]
  },
  {
   "cell_type": "code",
   "execution_count": null,
   "id": "424e7d58",
   "metadata": {},
   "outputs": [],
   "source": [
    "import numpy as np\n",
    "data = np.zeros(20)\n",
    "DataLoader(data)"
   ]
  },
  {
   "cell_type": "code",
   "execution_count": null,
   "id": "2ec98712",
   "metadata": {},
   "outputs": [],
   "source": [
    "import pandas as pd\n",
    "data = pd.DataFrame([[1, 2, 3], [3, 4, 5]])\n",
    "DataLoader(data)"
   ]
  },
  {
   "cell_type": "markdown",
   "id": "e43005e3",
   "metadata": {},
   "source": [
    "Another option: `DataLoader('path/to/local/file')`"
   ]
  },
  {
   "cell_type": "markdown",
   "id": "a7c1c655",
   "metadata": {},
   "source": [
    "DataLoader also has options to specify the variable names, target name, categorical variables, etc. If not specified, these values are inferred.\n",
    "\n",
    "Visualize variables loaded by `DataLoader`"
   ]
  },
  {
   "cell_type": "code",
   "execution_count": null,
   "id": "220a3c2f",
   "metadata": {},
   "outputs": [],
   "source": [
    "load_data = DataLoader(make_classification, n_features = 10)\n",
    "load_data.plot()"
   ]
  },
  {
   "cell_type": "markdown",
   "id": "df9867d9",
   "metadata": {},
   "source": [
    "![XAISuiteGeneralDemoOutput1](XAISuiteGeneralDemoOutput1.png)"
   ]
  },
  {
   "cell_type": "markdown",
   "id": "812a5335",
   "metadata": {},
   "source": [
    "For optimal model training, additional processing must be done to the data. This is where `xaisuite.dataHandler.DataProcessor` comes into play. You can process data with default parameters or pass in your own transforms (like from the `sklearn.preprocessing` library)."
   ]
  },
  {
   "cell_type": "code",
   "execution_count": null,
   "id": "ce8091ca",
   "metadata": {},
   "outputs": [],
   "source": [
    "load_data = DataLoader(make_classification, n_features = 10)\n",
    "DataProcessor(load_data)"
   ]
  },
  {
   "cell_type": "code",
   "execution_count": null,
   "id": "b1d7ee4b",
   "metadata": {},
   "outputs": [],
   "source": [
    "load_data = DataLoader(load_diabetes, return_X_y = True)\n",
    "DataProcessor(load_data, test_size = 0.1)"
   ]
  },
  {
   "cell_type": "markdown",
   "id": "e5eb2063",
   "metadata": {},
   "source": [
    "You can also use transform components, a short example of which is given below with placeholders:\n",
    "\n",
    "`from sklearn.preprocessing import StandardScaler`\n",
    "\n",
    "`load_data = DataLoader(load_diabetes, return_X_y = True)`\n",
    "\n",
    "`DataProcessor(load_data, test_size = 0.1, target_transform = \"component: TargetTransform()\")`\n"
   ]
  },
  {
   "cell_type": "markdown",
   "id": "60902eca",
   "metadata": {},
   "source": [
    "To train a model, simply do:"
   ]
  },
  {
   "cell_type": "code",
   "execution_count": null,
   "id": "018ea3c1",
   "metadata": {},
   "outputs": [],
   "source": [
    "load_data = DataLoader(load_diabetes, return_X_y = True)\n",
    "process_data = DataProcessor(load_data, test_size = 0.1)\n",
    "\n",
    "ModelTrainer(\"SVR\", process_data)"
   ]
  },
  {
   "cell_type": "markdown",
   "id": "afcb63c5",
   "metadata": {},
   "source": [
    "You can also pass in a model directly without using a String representation."
   ]
  },
  {
   "cell_type": "code",
   "execution_count": null,
   "id": "67136f59",
   "metadata": {},
   "outputs": [],
   "source": [
    "from sklearn.svm import SVR\n",
    "load_data = DataLoader(load_diabetes, return_X_y = True)\n",
    "process_data = DataProcessor(load_data, test_size = 0.1)\n",
    "\n",
    "ModelTrainer(SVR, process_data, epsilon = 0.2)"
   ]
  },
  {
   "cell_type": "markdown",
   "id": "27b54716",
   "metadata": {},
   "source": [
    "For explaining, simply list the desired explanations."
   ]
  },
  {
   "cell_type": "code",
   "execution_count": null,
   "id": "14afcbb5",
   "metadata": {},
   "outputs": [],
   "source": [
    "from sklearn.svm import SVR\n",
    "load_data = DataLoader(load_diabetes, return_X_y = True)\n",
    "process_data = DataProcessor(load_data, test_size = 0.1)\n",
    "\n",
    "ModelTrainer(SVR, process_data, explainers = [\"lime\", \"shap\"], epsilon = 0.2)"
   ]
  },
  {
   "cell_type": "markdown",
   "id": "49c84fb6",
   "metadata": {},
   "source": [
    "You can pass in arguments to the explainers:"
   ]
  },
  {
   "cell_type": "code",
   "execution_count": null,
   "id": "d9ef2df0",
   "metadata": {},
   "outputs": [],
   "source": [
    "from sklearn.svm import SVR\n",
    "load_data = DataLoader(load_diabetes, return_X_y = True)\n",
    "process_data = DataProcessor(load_data, test_size = 0.1)\n",
    "\n",
    "ModelTrainer(SVR, process_data, explainers = {\"lime\": {\"feature_selection\": \"none\"}, \"shap\": {}}, epsilon = 0.2)"
   ]
  },
  {
   "cell_type": "markdown",
   "id": "83712ab7",
   "metadata": {},
   "source": [
    "To access the explanations, use the `getExplanationsFor`, `getAllExplanations`, or `getSummaryExplanations` functions. Use `plotExplanations` for explanation visualization."
   ]
  },
  {
   "cell_type": "code",
   "execution_count": null,
   "id": "0ecb9599",
   "metadata": {},
   "outputs": [],
   "source": [
    "from sklearn.svm import SVR\n",
    "load_data = DataLoader(load_diabetes, return_X_y = True)\n",
    "process_data = DataProcessor(load_data, test_size = 0.1)\n",
    "train_model = ModelTrainer(SVR, process_data, explainers = {\"lime\": {\"feature_selection\": \"none\"}, \"shap\": {}}, epsilon = 0.2)\n",
    "\n",
    "explanations = train_model.getExplanationsFor([]) # Gets all explanations. You can also request explanations for a specific instance\n",
    "train_model.plotExplanations(\"lime\", 1) #Display the lime explainer results for the 2nd instance returned by getExplanationsFor()"
   ]
  },
  {
   "cell_type": "markdown",
   "id": "ef5b80c0",
   "metadata": {},
   "source": [
    "`Model score is 0.22886080630718109`\n",
    "\n",
    "`Generating explanations.`\n",
    "\n",
    "  ` 0%|          | 0/45 [00:00<?, ?it/s] `"
   ]
  },
  {
   "cell_type": "markdown",
   "id": "15fc20ae",
   "metadata": {},
   "source": [
    "![XAISuiteGeneralDemoOutput2](XAISuiteGeneralDemoOutput2.png)"
   ]
  },
  {
   "cell_type": "markdown",
   "id": "0e5c7a3d",
   "metadata": {},
   "source": [
    "Calculate similarity between explainers using the Shreyan Distance"
   ]
  },
  {
   "cell_type": "code",
   "execution_count": null,
   "id": "0e18456e",
   "metadata": {},
   "outputs": [],
   "source": [
    "from sklearn.svm import SVR\n",
    "load_data = DataLoader(load_diabetes, return_X_y = True)\n",
    "process_data = DataProcessor(load_data, test_size = 0.1)\n",
    "train_model = ModelTrainer(SVR, process_data, explainers = {\"lime\": {\"feature_selection\": \"none\"}, \"shap\": {}}, epsilon = 0.2)\n",
    "explanations = train_model.getExplanationsFor([])\n",
    "\n",
    "insights = InsightGenerator(explanations)\n",
    "print(insights.calculateExplainerSimilarity(\"lime\", \"shap\"))"
   ]
  },
  {
   "cell_type": "markdown",
   "id": "db5fab4e",
   "metadata": {},
   "source": [
    "`Model score is 0.14626289816154203`\n",
    "\n",
    "`Generating explanations.`\n",
    "\n",
    "`  0%|          | 0/45 [00:00<?, ?it/s]`\n",
    "    \n",
    "`0.8081355932203389`"
   ]
  },
  {
   "cell_type": "markdown",
   "id": "a975e760",
   "metadata": {},
   "source": [
    "*NOTE*: For examples using tensorflow or pytorch models, check out our other demos."
   ]
  },
  {
   "cell_type": "code",
   "execution_count": null,
   "id": "7376a584",
   "metadata": {},
   "outputs": [],
   "source": []
  }
 ],
 "metadata": {
  "kernelspec": {
   "display_name": "Python 3 (ipykernel)",
   "language": "python",
   "name": "python3"
  },
  "language_info": {
   "codemirror_mode": {
    "name": "ipython",
    "version": 3
   },
   "file_extension": ".py",
   "mimetype": "text/x-python",
   "name": "python",
   "nbconvert_exporter": "python",
   "pygments_lexer": "ipython3",
   "version": "3.10.12"
  }
 },
 "nbformat": 4,
 "nbformat_minor": 5
}
