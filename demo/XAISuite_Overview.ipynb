{
 "cells": [
  {
   "cell_type": "markdown",
   "id": "f86892a7",
   "metadata": {},
   "source": [
    "# XAISUITE INSTALLATION AND USE TUTORIAL"
   ]
  },
  {
   "cell_type": "markdown",
   "id": "da9684cb",
   "metadata": {},
   "source": [
    "## Installing XAISuite"
   ]
  },
  {
   "cell_type": "code",
   "execution_count": 2,
   "id": "1fa716b9",
   "metadata": {},
   "outputs": [
    {
     "name": "stdout",
     "output_type": "stream",
     "text": [
      "Collecting XAISuite\n",
      "  Downloading XAISuite-0.6-py3-none-any.whl (9.3 kB)\n",
      "Requirement already satisfied: omnixai>=1.2 in /Users/piuandpiku/opt/anaconda3/lib/python3.9/site-packages (from XAISuite) (1.2.3)\n",
      "Requirement already satisfied: scikit-image>=0.17.2 in /Users/piuandpiku/opt/anaconda3/lib/python3.9/site-packages (from omnixai>=1.2->XAISuite) (0.19.2)\n",
      "Requirement already satisfied: numpy>=1.17 in /Users/piuandpiku/opt/anaconda3/lib/python3.9/site-packages (from omnixai>=1.2->XAISuite) (1.21.5)\n",
      "Requirement already satisfied: SALib in /Users/piuandpiku/opt/anaconda3/lib/python3.9/site-packages (from omnixai>=1.2->XAISuite) (1.4.5)\n",
      "Requirement already satisfied: tqdm in /Users/piuandpiku/opt/anaconda3/lib/python3.9/site-packages (from omnixai>=1.2->XAISuite) (4.64.0)\n",
      "Requirement already satisfied: hnswlib>=0.5.0 in /Users/piuandpiku/opt/anaconda3/lib/python3.9/site-packages (from omnixai>=1.2->XAISuite) (0.6.2)\n",
      "Requirement already satisfied: packaging in /Users/piuandpiku/opt/anaconda3/lib/python3.9/site-packages (from omnixai>=1.2->XAISuite) (21.3)\n",
      "Requirement already satisfied: scipy>=1.5.0 in /Users/piuandpiku/opt/anaconda3/lib/python3.9/site-packages (from omnixai>=1.2->XAISuite) (1.7.3)\n",
      "Requirement already satisfied: tabulate in /Users/piuandpiku/opt/anaconda3/lib/python3.9/site-packages (from omnixai>=1.2->XAISuite) (0.8.9)\n",
      "Requirement already satisfied: pillow<10.0 in /Users/piuandpiku/opt/anaconda3/lib/python3.9/site-packages (from omnixai>=1.2->XAISuite) (9.0.1)\n",
      "Requirement already satisfied: ipython in /Users/piuandpiku/opt/anaconda3/lib/python3.9/site-packages (from omnixai>=1.2->XAISuite) (8.2.0)\n",
      "Requirement already satisfied: matplotlib in /Users/piuandpiku/opt/anaconda3/lib/python3.9/site-packages (from omnixai>=1.2->XAISuite) (3.5.1)\n",
      "Requirement already satisfied: shap>=0.40.0 in /Users/piuandpiku/opt/anaconda3/lib/python3.9/site-packages (from omnixai>=1.2->XAISuite) (0.41.0)\n",
      "Requirement already satisfied: pandas>=1.1.0 in /Users/piuandpiku/opt/anaconda3/lib/python3.9/site-packages (from omnixai>=1.2->XAISuite) (1.4.2)\n",
      "Requirement already satisfied: lime in /Users/piuandpiku/opt/anaconda3/lib/python3.9/site-packages (from omnixai>=1.2->XAISuite) (0.2.0.1)\n",
      "Requirement already satisfied: statsmodels>=0.10.1 in /Users/piuandpiku/opt/anaconda3/lib/python3.9/site-packages (from omnixai>=1.2->XAISuite) (0.13.2)\n",
      "Requirement already satisfied: dill in /Users/piuandpiku/opt/anaconda3/lib/python3.9/site-packages (from omnixai>=1.2->XAISuite) (0.3.5.1)\n",
      "Requirement already satisfied: scikit-learn<1.2,>=0.24 in /Users/piuandpiku/opt/anaconda3/lib/python3.9/site-packages (from omnixai>=1.2->XAISuite) (1.0.2)\n",
      "Requirement already satisfied: wheel in /Users/piuandpiku/opt/anaconda3/lib/python3.9/site-packages (from omnixai>=1.2->XAISuite) (0.37.1)\n",
      "Requirement already satisfied: python-dateutil>=2.8.1 in /Users/piuandpiku/opt/anaconda3/lib/python3.9/site-packages (from pandas>=1.1.0->omnixai>=1.2->XAISuite) (2.8.2)\n",
      "Requirement already satisfied: pytz>=2020.1 in /Users/piuandpiku/opt/anaconda3/lib/python3.9/site-packages (from pandas>=1.1.0->omnixai>=1.2->XAISuite) (2021.3)\n",
      "Requirement already satisfied: six>=1.5 in /Users/piuandpiku/opt/anaconda3/lib/python3.9/site-packages (from python-dateutil>=2.8.1->pandas>=1.1.0->omnixai>=1.2->XAISuite) (1.16.0)\n",
      "Requirement already satisfied: imageio>=2.4.1 in /Users/piuandpiku/opt/anaconda3/lib/python3.9/site-packages (from scikit-image>=0.17.2->omnixai>=1.2->XAISuite) (2.9.0)\n",
      "Requirement already satisfied: networkx>=2.2 in /Users/piuandpiku/opt/anaconda3/lib/python3.9/site-packages (from scikit-image>=0.17.2->omnixai>=1.2->XAISuite) (2.7.1)\n",
      "Requirement already satisfied: PyWavelets>=1.1.1 in /Users/piuandpiku/opt/anaconda3/lib/python3.9/site-packages (from scikit-image>=0.17.2->omnixai>=1.2->XAISuite) (1.3.0)\n",
      "Requirement already satisfied: tifffile>=2019.7.26 in /Users/piuandpiku/opt/anaconda3/lib/python3.9/site-packages (from scikit-image>=0.17.2->omnixai>=1.2->XAISuite) (2021.7.2)\n",
      "Requirement already satisfied: pyparsing!=3.0.5,>=2.0.2 in /Users/piuandpiku/opt/anaconda3/lib/python3.9/site-packages (from packaging->omnixai>=1.2->XAISuite) (3.0.4)\n",
      "Requirement already satisfied: joblib>=0.11 in /Users/piuandpiku/opt/anaconda3/lib/python3.9/site-packages (from scikit-learn<1.2,>=0.24->omnixai>=1.2->XAISuite) (1.1.0)\n",
      "Requirement already satisfied: threadpoolctl>=2.0.0 in /Users/piuandpiku/opt/anaconda3/lib/python3.9/site-packages (from scikit-learn<1.2,>=0.24->omnixai>=1.2->XAISuite) (2.2.0)\n",
      "Requirement already satisfied: slicer==0.0.7 in /Users/piuandpiku/opt/anaconda3/lib/python3.9/site-packages (from shap>=0.40.0->omnixai>=1.2->XAISuite) (0.0.7)\n",
      "Requirement already satisfied: cloudpickle in /Users/piuandpiku/opt/anaconda3/lib/python3.9/site-packages (from shap>=0.40.0->omnixai>=1.2->XAISuite) (2.0.0)\n",
      "Requirement already satisfied: numba in /Users/piuandpiku/opt/anaconda3/lib/python3.9/site-packages (from shap>=0.40.0->omnixai>=1.2->XAISuite) (0.55.1)\n",
      "Requirement already satisfied: patsy>=0.5.2 in /Users/piuandpiku/opt/anaconda3/lib/python3.9/site-packages (from statsmodels>=0.10.1->omnixai>=1.2->XAISuite) (0.5.2)\n",
      "Requirement already satisfied: prompt-toolkit!=3.0.0,!=3.0.1,<3.1.0,>=2.0.0 in /Users/piuandpiku/opt/anaconda3/lib/python3.9/site-packages (from ipython->omnixai>=1.2->XAISuite) (3.0.20)\n",
      "Requirement already satisfied: stack-data in /Users/piuandpiku/opt/anaconda3/lib/python3.9/site-packages (from ipython->omnixai>=1.2->XAISuite) (0.2.0)\n",
      "Requirement already satisfied: matplotlib-inline in /Users/piuandpiku/opt/anaconda3/lib/python3.9/site-packages (from ipython->omnixai>=1.2->XAISuite) (0.1.2)\n",
      "Requirement already satisfied: appnope in /Users/piuandpiku/opt/anaconda3/lib/python3.9/site-packages (from ipython->omnixai>=1.2->XAISuite) (0.1.2)\n",
      "Requirement already satisfied: pickleshare in /Users/piuandpiku/opt/anaconda3/lib/python3.9/site-packages (from ipython->omnixai>=1.2->XAISuite) (0.7.5)\n",
      "Requirement already satisfied: pygments>=2.4.0 in /Users/piuandpiku/opt/anaconda3/lib/python3.9/site-packages (from ipython->omnixai>=1.2->XAISuite) (2.11.2)\n",
      "Requirement already satisfied: traitlets>=5 in /Users/piuandpiku/opt/anaconda3/lib/python3.9/site-packages (from ipython->omnixai>=1.2->XAISuite) (5.1.1)\n",
      "Requirement already satisfied: setuptools>=18.5 in /Users/piuandpiku/opt/anaconda3/lib/python3.9/site-packages (from ipython->omnixai>=1.2->XAISuite) (61.2.0)\n",
      "Requirement already satisfied: jedi>=0.16 in /Users/piuandpiku/opt/anaconda3/lib/python3.9/site-packages (from ipython->omnixai>=1.2->XAISuite) (0.18.1)\n",
      "Requirement already satisfied: backcall in /Users/piuandpiku/opt/anaconda3/lib/python3.9/site-packages (from ipython->omnixai>=1.2->XAISuite) (0.2.0)\n",
      "Requirement already satisfied: decorator in /Users/piuandpiku/opt/anaconda3/lib/python3.9/site-packages (from ipython->omnixai>=1.2->XAISuite) (5.1.1)\n",
      "Requirement already satisfied: pexpect>4.3 in /Users/piuandpiku/opt/anaconda3/lib/python3.9/site-packages (from ipython->omnixai>=1.2->XAISuite) (4.8.0)\n",
      "Requirement already satisfied: parso<0.9.0,>=0.8.0 in /Users/piuandpiku/opt/anaconda3/lib/python3.9/site-packages (from jedi>=0.16->ipython->omnixai>=1.2->XAISuite) (0.8.3)\n",
      "Requirement already satisfied: ptyprocess>=0.5 in /Users/piuandpiku/opt/anaconda3/lib/python3.9/site-packages (from pexpect>4.3->ipython->omnixai>=1.2->XAISuite) (0.7.0)\n",
      "Requirement already satisfied: wcwidth in /Users/piuandpiku/opt/anaconda3/lib/python3.9/site-packages (from prompt-toolkit!=3.0.0,!=3.0.1,<3.1.0,>=2.0.0->ipython->omnixai>=1.2->XAISuite) (0.2.5)\n",
      "Requirement already satisfied: fonttools>=4.22.0 in /Users/piuandpiku/opt/anaconda3/lib/python3.9/site-packages (from matplotlib->omnixai>=1.2->XAISuite) (4.25.0)\n",
      "Requirement already satisfied: kiwisolver>=1.0.1 in /Users/piuandpiku/opt/anaconda3/lib/python3.9/site-packages (from matplotlib->omnixai>=1.2->XAISuite) (1.3.2)\n",
      "Requirement already satisfied: cycler>=0.10 in /Users/piuandpiku/opt/anaconda3/lib/python3.9/site-packages (from matplotlib->omnixai>=1.2->XAISuite) (0.11.0)\n",
      "Requirement already satisfied: llvmlite<0.39,>=0.38.0rc1 in /Users/piuandpiku/opt/anaconda3/lib/python3.9/site-packages (from numba->shap>=0.40.0->omnixai>=1.2->XAISuite) (0.38.0)\n"
     ]
    },
    {
     "name": "stdout",
     "output_type": "stream",
     "text": [
      "Requirement already satisfied: pathos in /Users/piuandpiku/opt/anaconda3/lib/python3.9/site-packages (from SALib->omnixai>=1.2->XAISuite) (0.2.9)\n",
      "Requirement already satisfied: multiprocess>=0.70.13 in /Users/piuandpiku/opt/anaconda3/lib/python3.9/site-packages (from pathos->SALib->omnixai>=1.2->XAISuite) (0.70.13)\n",
      "Requirement already satisfied: pox>=0.3.1 in /Users/piuandpiku/opt/anaconda3/lib/python3.9/site-packages (from pathos->SALib->omnixai>=1.2->XAISuite) (0.3.1)\n",
      "Requirement already satisfied: ppft>=1.7.6.5 in /Users/piuandpiku/opt/anaconda3/lib/python3.9/site-packages (from pathos->SALib->omnixai>=1.2->XAISuite) (1.7.6.5)\n",
      "Requirement already satisfied: executing in /Users/piuandpiku/opt/anaconda3/lib/python3.9/site-packages (from stack-data->ipython->omnixai>=1.2->XAISuite) (0.8.3)\n",
      "Requirement already satisfied: asttokens in /Users/piuandpiku/opt/anaconda3/lib/python3.9/site-packages (from stack-data->ipython->omnixai>=1.2->XAISuite) (2.0.5)\n",
      "Requirement already satisfied: pure-eval in /Users/piuandpiku/opt/anaconda3/lib/python3.9/site-packages (from stack-data->ipython->omnixai>=1.2->XAISuite) (0.2.2)\n",
      "Installing collected packages: XAISuite\n",
      "Successfully installed XAISuite-0.6\n"
     ]
    }
   ],
   "source": [
    "!pip install XAISuite"
   ]
  },
  {
   "cell_type": "markdown",
   "id": "c9528584",
   "metadata": {},
   "source": [
    "## Importing and Using XAISuite"
   ]
  },
  {
   "cell_type": "code",
   "execution_count": 3,
   "id": "994e8e12",
   "metadata": {},
   "outputs": [],
   "source": [
    "from xaisuite import*"
   ]
  },
  {
   "cell_type": "markdown",
   "id": "edbc6caa",
   "metadata": {},
   "source": [
    "Let's look at the documentation for key XAISuite functions. Alternatively, you could check our [documentation webpage](https://11301858.github.io/XAISuite/v0.6.0-beta/index.html)"
   ]
  },
  {
   "cell_type": "code",
   "execution_count": 4,
   "id": "f05fcac4",
   "metadata": {},
   "outputs": [
    {
     "name": "stdout",
     "output_type": "stream",
     "text": [
      "Help on function train_and_explainModel in module xaisuite.xaichooser:\n",
      "\n",
      "train_and_explainModel(model: str, tabular_data: omnixai.data.tabular.Tabular, x_ai: list, indexList: list = [], scale: bool = True, scaleType: str = 'StandardScaler', addendum: str = '', verbose: bool = False, **modelSpecificArgs)\n",
      "    A function that attempts to train and explain a particular sklearn model.\n",
      "    Parameters:\n",
      "    model:str | Name of Model\n",
      "    tabular_data:Tabular | Tabular object representing data set to be used in training\n",
      "    x_ai:list | List of explanatory models to be used\n",
      "    indexList:list = [] | Specific test data instance to be explained, by default empty (indicating all instances should be explained)\n",
      "    scale:bool = True | Whether data should be scaled before training\n",
      "    scaleType:str = \"StandardScaler\" | Default Scaler type. Example: Use \"MinMaxScaler\" for MultinomialNB model.\n",
      "    addendum:str = \"\" | Added string to explanation files in case multiple models are being trained and explained within the same directory, to prevent overwriting.\n",
      "    verbose:bool = False | Whether debugging information should be printed\n",
      "    **modelSpecificArgs | Specific arguments to pass on to the model function\n",
      "    \n",
      "    Returns:\n",
      "    The learning model\n",
      "    The scaler (if applicable) if user wants to predict more values\n",
      "\n"
     ]
    }
   ],
   "source": [
    "help(train_and_explainModel)"
   ]
  },
  {
   "cell_type": "code",
   "execution_count": 6,
   "id": "be29972f",
   "metadata": {},
   "outputs": [
    {
     "name": "stdout",
     "output_type": "stream",
     "text": [
      "Help on function load_data_CSV in module xaisuite.dataLoader:\n",
      "\n",
      "load_data_CSV(data: str, target: str, cut: Union[str, list] = None) -> omnixai.data.tabular.Tabular\n",
      "    A function that creates a omnixai.data.tabular.Tabular object instance representing a particular dataset.\n",
      "    Parameters:\n",
      "    data:str | Pathname for the CSV file where the dataset is found.\n",
      "    target:str | Target variable used for training data\n",
      "    cut: Union[str, list] = None | Variables that should be ignored in training\n",
      "    \n",
      "    Returns:\n",
      "    tabular_data: Tabular | Tabular object instance representing 'data'\n",
      "\n"
     ]
    }
   ],
   "source": [
    "help(load_data_CSV)"
   ]
  },
  {
   "cell_type": "code",
   "execution_count": 7,
   "id": "5f537db8",
   "metadata": {},
   "outputs": [
    {
     "name": "stdout",
     "output_type": "stream",
     "text": [
      "Help on function load_data_sklearn in module xaisuite.dataLoader:\n",
      "\n",
      "load_data_sklearn(datastore: dict, target: str, cut: Union[str, list] = None) -> omnixai.data.tabular.Tabular\n",
      "    A function that creates a omnixai.data.tabular.Tabular object instance representing a particular sklearn dataset for demoing.\n",
      "    Parameters:\n",
      "    datastore:dict | A dictionary object containing the data\n",
      "    target:str | Target variable used for training data\n",
      "    cut: Union[str, list] = None | Variables that should be ignored in training\n",
      "    \n",
      "    Returns:\n",
      "    tabular_data: Tabular | Tabular object instance representing 'data'\n",
      "\n"
     ]
    }
   ],
   "source": [
    "help(load_data_sklearn)"
   ]
  },
  {
   "cell_type": "code",
   "execution_count": 8,
   "id": "f8a318e7",
   "metadata": {},
   "outputs": [
    {
     "name": "stdout",
     "output_type": "stream",
     "text": [
      "Help on function compare_explanations in module xaisuite.analyzer:\n",
      "\n",
      "compare_explanations(filenames: list, verbose=False)\n",
      "    A function that analyzes and compares the explanations generated by train_and_explainModel.\n",
      "    Parameters:\n",
      "    filenames:list | File names with explanations (of the form \"Explainer ImportanceScores - Model Target.csv\")\n",
      "    \n",
      "    Returns:\n",
      "    Nothing\n",
      "\n"
     ]
    }
   ],
   "source": [
    "help(compare_explanations)"
   ]
  },
  {
   "cell_type": "markdown",
   "id": "42313ca5",
   "metadata": {},
   "source": [
    "Any supervised machine learning model from sklearn is supported, as long as you use it on the right dataset and for the right purpose. Models outside of sklearn may or may not be supported. If you need to pass in a specific argument to the model itself, just enter them as arguments to ``train_and_explainModel`` after the regular arguments. If you are using sklearn datasets, make sure to ``from sklearn.datasets import*`` Following are examples of correct uses of XAISuite functions."
   ]
  },
  {
   "cell_type": "code",
   "execution_count": 9,
   "id": "dc796527",
   "metadata": {},
   "outputs": [],
   "source": [
    "from sklearn.datasets import*"
   ]
  },
  {
   "cell_type": "code",
   "execution_count": 11,
   "id": "b5b49e08",
   "metadata": {},
   "outputs": [],
   "source": [
    "models = [\"LogisticRegression\", \"SVC\", \"GaussianNB\", \"MultinomialNB\", \"SGDClassifier\", \"KNeighborsClassifier\", \"DecisionTreeClassifier\", \"RandomForestClassifier\", \"GradientBoostingClassifier\", \"LinearRegression\", \"SGDRegressor\", \"Kernel Ridge\", \"ElasticNet\", \"BayesianRidge\", \"GradientBoostingRegressor\", \"SVR\"]"
   ]
  },
  {
   "cell_type": "code",
   "execution_count": 12,
   "id": "c6a40a90",
   "metadata": {},
   "outputs": [],
   "source": [
    "data = [\"load_diabetes()\", \"load_iris()\", \"fetch_california_housing()\", \"load_digits()\"] # Need to add "
   ]
  },
  {
   "cell_type": "markdown",
   "id": "b082afe0",
   "metadata": {},
   "source": [
    "For most functions, we can just plug in the model and dataset. We choose explainers ``lime`` and ``shap``. The addendum argument is in case you use the same model and explainer for different datasets and need to differentiate / prevent overwrite."
   ]
  },
  {
   "cell_type": "code",
   "execution_count": null,
   "id": "b2cfb9d6",
   "metadata": {},
   "outputs": [],
   "source": [
    "# Train all the models on the all the datasets. There will be some errors, which we'll address in following cells.\n",
    "for i in range (len(data)):\n",
    "    for j in range (len(models)):\n",
    "        try:\n",
    "            train_and_explainModel(models[j], load_data_sklearn(eval(data[i]), 'target'), [\"lime\", \"shap\"], addendum = \" \" + data[i])\n",
    "        except:\n",
    "            continue\n",
    "    print(data[i] + \"is finished.\")\n",
    "    time.sleep(10)"
   ]
  },
  {
   "cell_type": "markdown",
   "id": "796b80c1",
   "metadata": {},
   "source": [
    "Some models will not work with the above code. Why? Because they need different/extra arguments."
   ]
  },
  {
   "cell_type": "markdown",
   "id": "76eed9c4",
   "metadata": {},
   "source": [
    "For ``SVC``, we can set ``probability = True`` to get results"
   ]
  },
  {
   "cell_type": "code",
   "execution_count": null,
   "id": "c1668e93",
   "metadata": {},
   "outputs": [],
   "source": [
    "train_and_explainModel(\"SVC\", load_data_sklearn(eval(data[0]), 'target'), [\"lime\", \"shap\"], addendum = \" \" + data[0], probability = True) #Note model argument probability = True"
   ]
  },
  {
   "cell_type": "markdown",
   "id": "d6db1ed7",
   "metadata": {},
   "source": [
    "For ``SGDClassifier``, we can set the loss function to ``loss = \"modifier_huber\"``"
   ]
  },
  {
   "cell_type": "code",
   "execution_count": null,
   "id": "9796a834",
   "metadata": {},
   "outputs": [],
   "source": [
    "train_and_explainModel(\"SGDClassifier\", load_data_sklearn(eval(data[0]), 'target'), [\"lime\", \"shap\"], addendum = \" \" + data[0], loss = \"modified_huber\") #Note model argument loss = \"modifier_huber\""
   ]
  },
  {
   "cell_type": "markdown",
   "id": "4a83f159",
   "metadata": {},
   "source": [
    "``MultinomialNB`` only takes in positive values, so we cannot use the default ``StandardScaler``. Instead, we use ``MinMaxScaler``"
   ]
  },
  {
   "cell_type": "code",
   "execution_count": null,
   "id": "04ebb32e",
   "metadata": {},
   "outputs": [],
   "source": [
    "train_and_explainModel(\"MultinomialNB\", load_data_sklearn(eval(data[0]), 'target'), [\"lime\", \"shap\"], scaleType = \"MinMaxScaler\", addendum = \" \" + data[i])"
   ]
  },
  {
   "cell_type": "markdown",
   "id": "f50ef280",
   "metadata": {},
   "source": [
    "Now, it's time to compare the explanations we have generated. "
   ]
  },
  {
   "cell_type": "code",
   "execution_count": null,
   "id": "9b34a6d0",
   "metadata": {},
   "outputs": [],
   "source": [
    "for i in range (len(data)):\n",
    "    for j in range (len(models)):\n",
    "        try:\n",
    "            print (\"Let's compare SHAP and LIME explanations using \" + models[j] + \" trained on \" + data[i] + \" dataset: \")\n",
    "            compare_explanations([\"shap ImportanceScores - \" + models[j]+\" target.csv\", \"lime ImportanceScores - \" + models[j]+\" target\" + \" \" + data[i].\"csv\"])\n",
    "        except:\n",
    "            print(models[j] + \" on \" + data[i] + \" failed. \")\n",
    "            continue"
   ]
  },
  {
   "cell_type": "markdown",
   "id": "eb03418a",
   "metadata": {},
   "source": [
    "We hope this tutorial is helpful. If you have any questions, please open an issue on Github, and we'll try to reply as soon as possible."
   ]
  },
  {
   "cell_type": "code",
   "execution_count": null,
   "id": "607605b5",
   "metadata": {},
   "outputs": [],
   "source": []
  }
 ],
 "metadata": {
  "kernelspec": {
   "display_name": "Python 3 (ipykernel)",
   "language": "python",
   "name": "python3"
  },
  "language_info": {
   "codemirror_mode": {
    "name": "ipython",
    "version": 3
   },
   "file_extension": ".py",
   "mimetype": "text/x-python",
   "name": "python",
   "nbconvert_exporter": "python",
   "pygments_lexer": "ipython3",
   "version": "3.9.12"
  }
 },
 "nbformat": 4,
 "nbformat_minor": 5
}
