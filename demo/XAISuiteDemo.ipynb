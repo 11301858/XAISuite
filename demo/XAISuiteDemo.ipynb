{
  "nbformat": 4,
  "nbformat_minor": 0,
  "metadata": {
    "colab": {
      "provenance": []
    },
    "kernelspec": {
      "name": "python3",
      "display_name": "Python 3"
    },
    "language_info": {
      "name": "python"
    },
    "widgets": {
      "application/vnd.jupyter.widget-state+json": {
        "3ebf3bfb23504021a190bf75312d3790": {
          "model_module": "@jupyter-widgets/controls",
          "model_name": "HBoxModel",
          "model_module_version": "1.5.0",
          "state": {
            "_dom_classes": [],
            "_model_module": "@jupyter-widgets/controls",
            "_model_module_version": "1.5.0",
            "_model_name": "HBoxModel",
            "_view_count": null,
            "_view_module": "@jupyter-widgets/controls",
            "_view_module_version": "1.5.0",
            "_view_name": "HBoxView",
            "box_style": "",
            "children": [
              "IPY_MODEL_d456fe252c894cc3b1be6159a04ab21a",
              "IPY_MODEL_9e6d207ccfdd491ba97003e6aa009e2f",
              "IPY_MODEL_e0b3b4b2b85946bb9b050d6e6a566212"
            ],
            "layout": "IPY_MODEL_1fd161404a624d229ca2ebdb68c9fc0f"
          }
        },
        "d456fe252c894cc3b1be6159a04ab21a": {
          "model_module": "@jupyter-widgets/controls",
          "model_name": "HTMLModel",
          "model_module_version": "1.5.0",
          "state": {
            "_dom_classes": [],
            "_model_module": "@jupyter-widgets/controls",
            "_model_module_version": "1.5.0",
            "_model_name": "HTMLModel",
            "_view_count": null,
            "_view_module": "@jupyter-widgets/controls",
            "_view_module_version": "1.5.0",
            "_view_name": "HTMLView",
            "description": "",
            "description_tooltip": null,
            "layout": "IPY_MODEL_c597397aa997410e8db89e59234b9b38",
            "placeholder": "​",
            "style": "IPY_MODEL_ab925625a6a64159aa8c5758d9b01dd0",
            "value": "100%"
          }
        },
        "9e6d207ccfdd491ba97003e6aa009e2f": {
          "model_module": "@jupyter-widgets/controls",
          "model_name": "FloatProgressModel",
          "model_module_version": "1.5.0",
          "state": {
            "_dom_classes": [],
            "_model_module": "@jupyter-widgets/controls",
            "_model_module_version": "1.5.0",
            "_model_name": "FloatProgressModel",
            "_view_count": null,
            "_view_module": "@jupyter-widgets/controls",
            "_view_module_version": "1.5.0",
            "_view_name": "ProgressView",
            "bar_style": "success",
            "description": "",
            "description_tooltip": null,
            "layout": "IPY_MODEL_ac090a9ad9fc46b8bc4bd72448b1fd17",
            "max": 45,
            "min": 0,
            "orientation": "horizontal",
            "style": "IPY_MODEL_deec184677bc4d61bb397815eba05f32",
            "value": 45
          }
        },
        "e0b3b4b2b85946bb9b050d6e6a566212": {
          "model_module": "@jupyter-widgets/controls",
          "model_name": "HTMLModel",
          "model_module_version": "1.5.0",
          "state": {
            "_dom_classes": [],
            "_model_module": "@jupyter-widgets/controls",
            "_model_module_version": "1.5.0",
            "_model_name": "HTMLModel",
            "_view_count": null,
            "_view_module": "@jupyter-widgets/controls",
            "_view_module_version": "1.5.0",
            "_view_name": "HTMLView",
            "description": "",
            "description_tooltip": null,
            "layout": "IPY_MODEL_98811b39f51f495ba6b87e005f87840d",
            "placeholder": "​",
            "style": "IPY_MODEL_933a4c9ea31d41059527cced44027e84",
            "value": " 45/45 [02:33&lt;00:00,  3.53s/it]"
          }
        },
        "1fd161404a624d229ca2ebdb68c9fc0f": {
          "model_module": "@jupyter-widgets/base",
          "model_name": "LayoutModel",
          "model_module_version": "1.2.0",
          "state": {
            "_model_module": "@jupyter-widgets/base",
            "_model_module_version": "1.2.0",
            "_model_name": "LayoutModel",
            "_view_count": null,
            "_view_module": "@jupyter-widgets/base",
            "_view_module_version": "1.2.0",
            "_view_name": "LayoutView",
            "align_content": null,
            "align_items": null,
            "align_self": null,
            "border": null,
            "bottom": null,
            "display": null,
            "flex": null,
            "flex_flow": null,
            "grid_area": null,
            "grid_auto_columns": null,
            "grid_auto_flow": null,
            "grid_auto_rows": null,
            "grid_column": null,
            "grid_gap": null,
            "grid_row": null,
            "grid_template_areas": null,
            "grid_template_columns": null,
            "grid_template_rows": null,
            "height": null,
            "justify_content": null,
            "justify_items": null,
            "left": null,
            "margin": null,
            "max_height": null,
            "max_width": null,
            "min_height": null,
            "min_width": null,
            "object_fit": null,
            "object_position": null,
            "order": null,
            "overflow": null,
            "overflow_x": null,
            "overflow_y": null,
            "padding": null,
            "right": null,
            "top": null,
            "visibility": null,
            "width": null
          }
        },
        "c597397aa997410e8db89e59234b9b38": {
          "model_module": "@jupyter-widgets/base",
          "model_name": "LayoutModel",
          "model_module_version": "1.2.0",
          "state": {
            "_model_module": "@jupyter-widgets/base",
            "_model_module_version": "1.2.0",
            "_model_name": "LayoutModel",
            "_view_count": null,
            "_view_module": "@jupyter-widgets/base",
            "_view_module_version": "1.2.0",
            "_view_name": "LayoutView",
            "align_content": null,
            "align_items": null,
            "align_self": null,
            "border": null,
            "bottom": null,
            "display": null,
            "flex": null,
            "flex_flow": null,
            "grid_area": null,
            "grid_auto_columns": null,
            "grid_auto_flow": null,
            "grid_auto_rows": null,
            "grid_column": null,
            "grid_gap": null,
            "grid_row": null,
            "grid_template_areas": null,
            "grid_template_columns": null,
            "grid_template_rows": null,
            "height": null,
            "justify_content": null,
            "justify_items": null,
            "left": null,
            "margin": null,
            "max_height": null,
            "max_width": null,
            "min_height": null,
            "min_width": null,
            "object_fit": null,
            "object_position": null,
            "order": null,
            "overflow": null,
            "overflow_x": null,
            "overflow_y": null,
            "padding": null,
            "right": null,
            "top": null,
            "visibility": null,
            "width": null
          }
        },
        "ab925625a6a64159aa8c5758d9b01dd0": {
          "model_module": "@jupyter-widgets/controls",
          "model_name": "DescriptionStyleModel",
          "model_module_version": "1.5.0",
          "state": {
            "_model_module": "@jupyter-widgets/controls",
            "_model_module_version": "1.5.0",
            "_model_name": "DescriptionStyleModel",
            "_view_count": null,
            "_view_module": "@jupyter-widgets/base",
            "_view_module_version": "1.2.0",
            "_view_name": "StyleView",
            "description_width": ""
          }
        },
        "ac090a9ad9fc46b8bc4bd72448b1fd17": {
          "model_module": "@jupyter-widgets/base",
          "model_name": "LayoutModel",
          "model_module_version": "1.2.0",
          "state": {
            "_model_module": "@jupyter-widgets/base",
            "_model_module_version": "1.2.0",
            "_model_name": "LayoutModel",
            "_view_count": null,
            "_view_module": "@jupyter-widgets/base",
            "_view_module_version": "1.2.0",
            "_view_name": "LayoutView",
            "align_content": null,
            "align_items": null,
            "align_self": null,
            "border": null,
            "bottom": null,
            "display": null,
            "flex": null,
            "flex_flow": null,
            "grid_area": null,
            "grid_auto_columns": null,
            "grid_auto_flow": null,
            "grid_auto_rows": null,
            "grid_column": null,
            "grid_gap": null,
            "grid_row": null,
            "grid_template_areas": null,
            "grid_template_columns": null,
            "grid_template_rows": null,
            "height": null,
            "justify_content": null,
            "justify_items": null,
            "left": null,
            "margin": null,
            "max_height": null,
            "max_width": null,
            "min_height": null,
            "min_width": null,
            "object_fit": null,
            "object_position": null,
            "order": null,
            "overflow": null,
            "overflow_x": null,
            "overflow_y": null,
            "padding": null,
            "right": null,
            "top": null,
            "visibility": null,
            "width": null
          }
        },
        "deec184677bc4d61bb397815eba05f32": {
          "model_module": "@jupyter-widgets/controls",
          "model_name": "ProgressStyleModel",
          "model_module_version": "1.5.0",
          "state": {
            "_model_module": "@jupyter-widgets/controls",
            "_model_module_version": "1.5.0",
            "_model_name": "ProgressStyleModel",
            "_view_count": null,
            "_view_module": "@jupyter-widgets/base",
            "_view_module_version": "1.2.0",
            "_view_name": "StyleView",
            "bar_color": null,
            "description_width": ""
          }
        },
        "98811b39f51f495ba6b87e005f87840d": {
          "model_module": "@jupyter-widgets/base",
          "model_name": "LayoutModel",
          "model_module_version": "1.2.0",
          "state": {
            "_model_module": "@jupyter-widgets/base",
            "_model_module_version": "1.2.0",
            "_model_name": "LayoutModel",
            "_view_count": null,
            "_view_module": "@jupyter-widgets/base",
            "_view_module_version": "1.2.0",
            "_view_name": "LayoutView",
            "align_content": null,
            "align_items": null,
            "align_self": null,
            "border": null,
            "bottom": null,
            "display": null,
            "flex": null,
            "flex_flow": null,
            "grid_area": null,
            "grid_auto_columns": null,
            "grid_auto_flow": null,
            "grid_auto_rows": null,
            "grid_column": null,
            "grid_gap": null,
            "grid_row": null,
            "grid_template_areas": null,
            "grid_template_columns": null,
            "grid_template_rows": null,
            "height": null,
            "justify_content": null,
            "justify_items": null,
            "left": null,
            "margin": null,
            "max_height": null,
            "max_width": null,
            "min_height": null,
            "min_width": null,
            "object_fit": null,
            "object_position": null,
            "order": null,
            "overflow": null,
            "overflow_x": null,
            "overflow_y": null,
            "padding": null,
            "right": null,
            "top": null,
            "visibility": null,
            "width": null
          }
        },
        "933a4c9ea31d41059527cced44027e84": {
          "model_module": "@jupyter-widgets/controls",
          "model_name": "DescriptionStyleModel",
          "model_module_version": "1.5.0",
          "state": {
            "_model_module": "@jupyter-widgets/controls",
            "_model_module_version": "1.5.0",
            "_model_name": "DescriptionStyleModel",
            "_view_count": null,
            "_view_module": "@jupyter-widgets/base",
            "_view_module_version": "1.2.0",
            "_view_name": "StyleView",
            "description_width": ""
          }
        },
        "84c355f54f0b4f39a559c591912c0767": {
          "model_module": "@jupyter-widgets/controls",
          "model_name": "HBoxModel",
          "model_module_version": "1.5.0",
          "state": {
            "_dom_classes": [],
            "_model_module": "@jupyter-widgets/controls",
            "_model_module_version": "1.5.0",
            "_model_name": "HBoxModel",
            "_view_count": null,
            "_view_module": "@jupyter-widgets/controls",
            "_view_module_version": "1.5.0",
            "_view_name": "HBoxView",
            "box_style": "",
            "children": [
              "IPY_MODEL_593a0f4f2014435abd204969fcea8bb3",
              "IPY_MODEL_fcd78fad28ba4c7f98edd1ff5b157a34",
              "IPY_MODEL_b10caf8e5a6f4c409bbd7eebd1d7a288"
            ],
            "layout": "IPY_MODEL_31cc61780daa452691a0d9314f5f3982"
          }
        },
        "593a0f4f2014435abd204969fcea8bb3": {
          "model_module": "@jupyter-widgets/controls",
          "model_name": "HTMLModel",
          "model_module_version": "1.5.0",
          "state": {
            "_dom_classes": [],
            "_model_module": "@jupyter-widgets/controls",
            "_model_module_version": "1.5.0",
            "_model_name": "HTMLModel",
            "_view_count": null,
            "_view_module": "@jupyter-widgets/controls",
            "_view_module_version": "1.5.0",
            "_view_name": "HTMLView",
            "description": "",
            "description_tooltip": null,
            "layout": "IPY_MODEL_25a2b49f83d94fb5a0113f5d373282dd",
            "placeholder": "​",
            "style": "IPY_MODEL_a0459bf282d24a2e983d34ff3a7ea07d",
            "value": "100%"
          }
        },
        "fcd78fad28ba4c7f98edd1ff5b157a34": {
          "model_module": "@jupyter-widgets/controls",
          "model_name": "FloatProgressModel",
          "model_module_version": "1.5.0",
          "state": {
            "_dom_classes": [],
            "_model_module": "@jupyter-widgets/controls",
            "_model_module_version": "1.5.0",
            "_model_name": "FloatProgressModel",
            "_view_count": null,
            "_view_module": "@jupyter-widgets/controls",
            "_view_module_version": "1.5.0",
            "_view_name": "ProgressView",
            "bar_style": "success",
            "description": "",
            "description_tooltip": null,
            "layout": "IPY_MODEL_e23d623420524c649bf23eefc79016ad",
            "max": 45,
            "min": 0,
            "orientation": "horizontal",
            "style": "IPY_MODEL_dcfdb62a66c1465293a99ea46a436029",
            "value": 45
          }
        },
        "b10caf8e5a6f4c409bbd7eebd1d7a288": {
          "model_module": "@jupyter-widgets/controls",
          "model_name": "HTMLModel",
          "model_module_version": "1.5.0",
          "state": {
            "_dom_classes": [],
            "_model_module": "@jupyter-widgets/controls",
            "_model_module_version": "1.5.0",
            "_model_name": "HTMLModel",
            "_view_count": null,
            "_view_module": "@jupyter-widgets/controls",
            "_view_module_version": "1.5.0",
            "_view_name": "HTMLView",
            "description": "",
            "description_tooltip": null,
            "layout": "IPY_MODEL_5e18405616764ee6903812d449f5a82d",
            "placeholder": "​",
            "style": "IPY_MODEL_a99b992ea7524bd4aab8aa73a6f9acfa",
            "value": " 45/45 [02:52&lt;00:00,  3.55s/it]"
          }
        },
        "31cc61780daa452691a0d9314f5f3982": {
          "model_module": "@jupyter-widgets/base",
          "model_name": "LayoutModel",
          "model_module_version": "1.2.0",
          "state": {
            "_model_module": "@jupyter-widgets/base",
            "_model_module_version": "1.2.0",
            "_model_name": "LayoutModel",
            "_view_count": null,
            "_view_module": "@jupyter-widgets/base",
            "_view_module_version": "1.2.0",
            "_view_name": "LayoutView",
            "align_content": null,
            "align_items": null,
            "align_self": null,
            "border": null,
            "bottom": null,
            "display": null,
            "flex": null,
            "flex_flow": null,
            "grid_area": null,
            "grid_auto_columns": null,
            "grid_auto_flow": null,
            "grid_auto_rows": null,
            "grid_column": null,
            "grid_gap": null,
            "grid_row": null,
            "grid_template_areas": null,
            "grid_template_columns": null,
            "grid_template_rows": null,
            "height": null,
            "justify_content": null,
            "justify_items": null,
            "left": null,
            "margin": null,
            "max_height": null,
            "max_width": null,
            "min_height": null,
            "min_width": null,
            "object_fit": null,
            "object_position": null,
            "order": null,
            "overflow": null,
            "overflow_x": null,
            "overflow_y": null,
            "padding": null,
            "right": null,
            "top": null,
            "visibility": null,
            "width": null
          }
        },
        "25a2b49f83d94fb5a0113f5d373282dd": {
          "model_module": "@jupyter-widgets/base",
          "model_name": "LayoutModel",
          "model_module_version": "1.2.0",
          "state": {
            "_model_module": "@jupyter-widgets/base",
            "_model_module_version": "1.2.0",
            "_model_name": "LayoutModel",
            "_view_count": null,
            "_view_module": "@jupyter-widgets/base",
            "_view_module_version": "1.2.0",
            "_view_name": "LayoutView",
            "align_content": null,
            "align_items": null,
            "align_self": null,
            "border": null,
            "bottom": null,
            "display": null,
            "flex": null,
            "flex_flow": null,
            "grid_area": null,
            "grid_auto_columns": null,
            "grid_auto_flow": null,
            "grid_auto_rows": null,
            "grid_column": null,
            "grid_gap": null,
            "grid_row": null,
            "grid_template_areas": null,
            "grid_template_columns": null,
            "grid_template_rows": null,
            "height": null,
            "justify_content": null,
            "justify_items": null,
            "left": null,
            "margin": null,
            "max_height": null,
            "max_width": null,
            "min_height": null,
            "min_width": null,
            "object_fit": null,
            "object_position": null,
            "order": null,
            "overflow": null,
            "overflow_x": null,
            "overflow_y": null,
            "padding": null,
            "right": null,
            "top": null,
            "visibility": null,
            "width": null
          }
        },
        "a0459bf282d24a2e983d34ff3a7ea07d": {
          "model_module": "@jupyter-widgets/controls",
          "model_name": "DescriptionStyleModel",
          "model_module_version": "1.5.0",
          "state": {
            "_model_module": "@jupyter-widgets/controls",
            "_model_module_version": "1.5.0",
            "_model_name": "DescriptionStyleModel",
            "_view_count": null,
            "_view_module": "@jupyter-widgets/base",
            "_view_module_version": "1.2.0",
            "_view_name": "StyleView",
            "description_width": ""
          }
        },
        "e23d623420524c649bf23eefc79016ad": {
          "model_module": "@jupyter-widgets/base",
          "model_name": "LayoutModel",
          "model_module_version": "1.2.0",
          "state": {
            "_model_module": "@jupyter-widgets/base",
            "_model_module_version": "1.2.0",
            "_model_name": "LayoutModel",
            "_view_count": null,
            "_view_module": "@jupyter-widgets/base",
            "_view_module_version": "1.2.0",
            "_view_name": "LayoutView",
            "align_content": null,
            "align_items": null,
            "align_self": null,
            "border": null,
            "bottom": null,
            "display": null,
            "flex": null,
            "flex_flow": null,
            "grid_area": null,
            "grid_auto_columns": null,
            "grid_auto_flow": null,
            "grid_auto_rows": null,
            "grid_column": null,
            "grid_gap": null,
            "grid_row": null,
            "grid_template_areas": null,
            "grid_template_columns": null,
            "grid_template_rows": null,
            "height": null,
            "justify_content": null,
            "justify_items": null,
            "left": null,
            "margin": null,
            "max_height": null,
            "max_width": null,
            "min_height": null,
            "min_width": null,
            "object_fit": null,
            "object_position": null,
            "order": null,
            "overflow": null,
            "overflow_x": null,
            "overflow_y": null,
            "padding": null,
            "right": null,
            "top": null,
            "visibility": null,
            "width": null
          }
        },
        "dcfdb62a66c1465293a99ea46a436029": {
          "model_module": "@jupyter-widgets/controls",
          "model_name": "ProgressStyleModel",
          "model_module_version": "1.5.0",
          "state": {
            "_model_module": "@jupyter-widgets/controls",
            "_model_module_version": "1.5.0",
            "_model_name": "ProgressStyleModel",
            "_view_count": null,
            "_view_module": "@jupyter-widgets/base",
            "_view_module_version": "1.2.0",
            "_view_name": "StyleView",
            "bar_color": null,
            "description_width": ""
          }
        },
        "5e18405616764ee6903812d449f5a82d": {
          "model_module": "@jupyter-widgets/base",
          "model_name": "LayoutModel",
          "model_module_version": "1.2.0",
          "state": {
            "_model_module": "@jupyter-widgets/base",
            "_model_module_version": "1.2.0",
            "_model_name": "LayoutModel",
            "_view_count": null,
            "_view_module": "@jupyter-widgets/base",
            "_view_module_version": "1.2.0",
            "_view_name": "LayoutView",
            "align_content": null,
            "align_items": null,
            "align_self": null,
            "border": null,
            "bottom": null,
            "display": null,
            "flex": null,
            "flex_flow": null,
            "grid_area": null,
            "grid_auto_columns": null,
            "grid_auto_flow": null,
            "grid_auto_rows": null,
            "grid_column": null,
            "grid_gap": null,
            "grid_row": null,
            "grid_template_areas": null,
            "grid_template_columns": null,
            "grid_template_rows": null,
            "height": null,
            "justify_content": null,
            "justify_items": null,
            "left": null,
            "margin": null,
            "max_height": null,
            "max_width": null,
            "min_height": null,
            "min_width": null,
            "object_fit": null,
            "object_position": null,
            "order": null,
            "overflow": null,
            "overflow_x": null,
            "overflow_y": null,
            "padding": null,
            "right": null,
            "top": null,
            "visibility": null,
            "width": null
          }
        },
        "a99b992ea7524bd4aab8aa73a6f9acfa": {
          "model_module": "@jupyter-widgets/controls",
          "model_name": "DescriptionStyleModel",
          "model_module_version": "1.5.0",
          "state": {
            "_model_module": "@jupyter-widgets/controls",
            "_model_module_version": "1.5.0",
            "_model_name": "DescriptionStyleModel",
            "_view_count": null,
            "_view_module": "@jupyter-widgets/base",
            "_view_module_version": "1.2.0",
            "_view_name": "StyleView",
            "description_width": ""
          }
        }
      }
    }
  },
  "cells": [
    {
      "cell_type": "markdown",
      "source": [
        " # **XAISuite General Demo**\n",
        "\n",
        " ![XAISuiteLogo.png](data:image/png;base64,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)\n",
        "\n",
        "\n",
        "\n"
      ],
      "metadata": {
        "id": "7jkUbmqQTxuZ"
      }
    },
    {
      "cell_type": "markdown",
      "source": [
        "Welcome to the XAISuite General Demo. Here you'll find countless examples about how to use XAISuite for easier machine learning model training, explanation, and explanation comparison.\n",
        "\n",
        "First, start by installing the XAISuite library."
      ],
      "metadata": {
        "id": "dRxYzUVlhqwx"
      }
    },
    {
      "cell_type": "code",
      "source": [
        "!pip install XAISuite==2.8.3"
      ],
      "metadata": {
        "id": "k6TvKpseiAum"
      },
      "execution_count": null,
      "outputs": []
    },
    {
      "cell_type": "markdown",
      "source": [
        "Then, import the library. You may need to restart runtime for this to work correctly."
      ],
      "metadata": {
        "id": "9DtDLKwwiCsi"
      }
    },
    {
      "cell_type": "code",
      "source": [
        "from xaisuite import*"
      ],
      "metadata": {
        "id": "6AU-E3EHiHZJ"
      },
      "execution_count": null,
      "outputs": []
    },
    {
      "cell_type": "markdown",
      "source": [
        "Run the following code to see a mini doc of XAISuite classes and functions."
      ],
      "metadata": {
        "id": "ESqNqmFyiJdW"
      }
    },
    {
      "cell_type": "code",
      "source": [
        "help(DataLoader)\n",
        "help(DataProcessor)\n",
        "help(ModelTrainer)\n",
        "help(InsightGenerator)"
      ],
      "metadata": {
        "id": "gHTAnR0MiQMW"
      },
      "execution_count": null,
      "outputs": []
    },
    {
      "cell_type": "markdown",
      "source": [
        "Let's first start with Data Loading. The `xaisuite.dataHandler.DataLoader `class allows loading of data from different sources."
      ],
      "metadata": {
        "id": "Vgg5U_OTHnB6"
      }
    },
    {
      "cell_type": "code",
      "source": [
        "DataLoader(make_classification)"
      ],
      "metadata": {
        "id": "OoJ-GcptIt3z"
      },
      "execution_count": null,
      "outputs": []
    },
    {
      "cell_type": "code",
      "source": [
        "DataLoader(load_diabetes, return_X_y = True)"
      ],
      "metadata": {
        "id": "0THdxb_gN82o"
      },
      "execution_count": null,
      "outputs": []
    },
    {
      "cell_type": "code",
      "source": [
        "import numpy as np\n",
        "data = np.zeros(20)\n",
        "DataLoader(data)"
      ],
      "metadata": {
        "id": "6zkoqRSkOh2O"
      },
      "execution_count": null,
      "outputs": []
    },
    {
      "cell_type": "code",
      "source": [
        "import pandas as pd\n",
        "data = pd.DataFrame([[1, 2, 3], [3, 4, 5]])\n",
        "DataLoader(data)"
      ],
      "metadata": {
        "id": "yFYzasErPClG"
      },
      "execution_count": null,
      "outputs": []
    },
    {
      "cell_type": "code",
      "source": [
        "DataLoader('path/to/local/file')"
      ],
      "metadata": {
        "id": "BYSXarLzPU6b"
      },
      "execution_count": null,
      "outputs": []
    },
    {
      "cell_type": "markdown",
      "source": [
        "DataLoader also has options to specify the variable names, target name, categorical variables, etc. If not specified, these values are inferred.\n",
        "\n",
        "Visualize variables loaded by `DataLoader`"
      ],
      "metadata": {
        "id": "Zx3RUmA-Pd5C"
      }
    },
    {
      "cell_type": "code",
      "source": [
        "load_data = DataLoader(make_classification, n_features = 10)\n",
        "load_data.plot()"
      ],
      "metadata": {
        "colab": {
          "base_uri": "https://localhost:8080/",
          "height": 690
        },
        "id": "_Jjxt6LZPvtq",
        "outputId": "2a4c73df-74e9-4390-ca61-cc0fbe995396"
      },
      "execution_count": null,
      "outputs": [
        {
          "output_type": "display_data",
          "data": {
            "text/plain": [
              "<Figure size 2000x1000 with 11 Axes>"
            ],
            "image/png": "[encoded data removed]"
          },
          "metadata": {}
        }
      ]
    },
    {
      "cell_type": "markdown",
      "source": [
        "For optimal model training, additional processing must be done to the data. This is where `xaisuite.dataHandler.DataProcessor` comes into play. You can process data with default parameters or pass in your own transforms (like from the `sklearn.preprocessing` library)."
      ],
      "metadata": {
        "id": "Hc21U6INQ0DM"
      }
    },
    {
      "cell_type": "code",
      "source": [
        "load_data = DataLoader(make_classification, n_features = 10)\n",
        "DataProcessor(load_data)"
      ],
      "metadata": {
        "id": "6DCTIn2-RVcR"
      },
      "execution_count": null,
      "outputs": []
    },
    {
      "cell_type": "code",
      "source": [
        "load_data = DataLoader(load_diabetes, return_X_y = True)\n",
        "DataProcessor(load_data, test_size = 0.1)"
      ],
      "metadata": {
        "id": "ywSxNgdLRdj4"
      },
      "execution_count": null,
      "outputs": []
    },
    {
      "cell_type": "code",
      "source": [
        "from sklearn.preprocessing import StandardScaler\n",
        "load_data = DataLoader(load_diabetes, return_X_y = True)\n",
        "DataProcessor(load_data, test_size = 0.1, target_transform = \"component: StandardScaler()\")"
      ],
      "metadata": {
        "id": "phoMn06IdN7c"
      },
      "execution_count": null,
      "outputs": []
    },
    {
      "cell_type": "markdown",
      "source": [
        "To train a model, simply do:"
      ],
      "metadata": {
        "id": "HzTbzE1gaZxh"
      }
    },
    {
      "cell_type": "code",
      "source": [
        "load_data = DataLoader(load_diabetes, return_X_y = True)\n",
        "process_data = DataProcessor(load_data, test_size = 0.1)\n",
        "\n",
        "ModelTrainer(\"SVR\", process_data)"
      ],
      "metadata": {
        "id": "1dHXZ92IacCI"
      },
      "execution_count": null,
      "outputs": []
    },
    {
      "cell_type": "markdown",
      "source": [
        "You can also pass in a model directly without using a String representation."
      ],
      "metadata": {
        "id": "CMhG0f7ua3sR"
      }
    },
    {
      "cell_type": "code",
      "source": [
        "from sklearn.svm import SVR\n",
        "load_data = DataLoader(load_diabetes, return_X_y = True)\n",
        "process_data = DataProcessor(load_data, test_size = 0.1)\n",
        "\n",
        "ModelTrainer(SVR, process_data, epsilon = 0.2)"
      ],
      "metadata": {
        "id": "TUx65T0napVx"
      },
      "execution_count": null,
      "outputs": []
    },
    {
      "cell_type": "markdown",
      "source": [
        "For explaining, simply list the desired explanations."
      ],
      "metadata": {
        "id": "-l3JJF9Fbk52"
      }
    },
    {
      "cell_type": "code",
      "source": [
        "from sklearn.svm import SVR\n",
        "load_data = DataLoader(load_diabetes, return_X_y = True)\n",
        "process_data = DataProcessor(load_data, test_size = 0.1)\n",
        "\n",
        "ModelTrainer(SVR, process_data, explainers = [\"lime\", \"shap\"], epsilon = 0.2)"
      ],
      "metadata": {
        "id": "PVXUNS29bOiM"
      },
      "execution_count": null,
      "outputs": []
    },
    {
      "cell_type": "markdown",
      "source": [
        "You can pass in arguments to the explainers:"
      ],
      "metadata": {
        "id": "HxgoOC3Ubytv"
      }
    },
    {
      "cell_type": "code",
      "source": [
        "from sklearn.svm import SVR\n",
        "load_data = DataLoader(load_diabetes, return_X_y = True)\n",
        "process_data = DataProcessor(load_data, test_size = 0.1)\n",
        "\n",
        "ModelTrainer(SVR, process_data, explainers = {\"lime\": {\"feature_selection\": \"none\"}, \"shap\": {}}, epsilon = 0.2)"
      ],
      "metadata": {
        "id": "UgcgwbOGbuaq"
      },
      "execution_count": null,
      "outputs": []
    },
    {
      "cell_type": "markdown",
      "source": [
        "To access the explanations, use the `getExplanationsFor`, `getAllExplanations`, or `getSummaryExplanations` functions. Use `plotExplanations` for explanation visualization."
      ],
      "metadata": {
        "id": "sIZKDfAzcHHU"
      }
    },
    {
      "cell_type": "code",
      "source": [
        "from sklearn.svm import SVR\n",
        "load_data = DataLoader(load_diabetes, return_X_y = True)\n",
        "process_data = DataProcessor(load_data, test_size = 0.1)\n",
        "train_model = ModelTrainer(SVR, process_data, explainers = {\"lime\": {\"feature_selection\": \"none\"}, \"shap\": {}}, epsilon = 0.2)\n",
        "\n",
        "explanations = train_model.getExplanationsFor([]) # Gets all explanations. You can also request explanations for a specific instance\n",
        "train_model.plotExplanations(\"lime\", 1) #Display the lime explainer results for the 2nd instance returned by getExplanationsFor()"
      ],
      "metadata": {
        "colab": {
          "base_uri": "https://localhost:8080/",
          "height": 608,
          "referenced_widgets": [
            "84c355f54f0b4f39a559c591912c0767",
            "593a0f4f2014435abd204969fcea8bb3",
            "fcd78fad28ba4c7f98edd1ff5b157a34",
            "b10caf8e5a6f4c409bbd7eebd1d7a288",
            "31cc61780daa452691a0d9314f5f3982",
            "25a2b49f83d94fb5a0113f5d373282dd",
            "a0459bf282d24a2e983d34ff3a7ea07d",
            "e23d623420524c649bf23eefc79016ad",
            "dcfdb62a66c1465293a99ea46a436029",
            "5e18405616764ee6903812d449f5a82d",
            "a99b992ea7524bd4aab8aa73a6f9acfa"
          ]
        },
        "id": "X8RxrNC-cFa-",
        "outputId": "47a6d535-81c8-471a-d097-65e5cc04cab3"
      },
      "execution_count": null,
      "outputs": [
        {
          "output_type": "stream",
          "name": "stdout",
          "text": [
            "Model score is 0.22886080630718109\n",
            "Generating explanations.\n"
          ]
        },
        {
          "output_type": "display_data",
          "data": {
            "text/plain": [
              "  0%|          | 0/45 [00:00<?, ?it/s]"
            ],
            "application/vnd.jupyter.widget-view+json": {
              "version_major": 2,
              "version_minor": 0,
              "model_id": "84c355f54f0b4f39a559c591912c0767"
            }
          },
          "metadata": {}
        },
        {
          "output_type": "display_data",
          "data": {
            "text/html": [
              "<html>\n",
              "<head><meta charset=\"utf-8\" /></head>\n",
              "<body>\n",
              "    <div>            <script src=\"https://cdnjs.cloudflare.com/ajax/libs/mathjax/2.7.5/MathJax.js?config=TeX-AMS-MML_SVG\"></script><script type=\"text/javascript\">if (window.MathJax && window.MathJax.Hub && window.MathJax.Hub.Config) {window.MathJax.Hub.Config({SVG: {font: \"STIX-Web\"}});}</script>                <script type=\"text/javascript\">window.PlotlyConfig = {MathJaxConfig: 'local'};</script>\n",
              "        <script charset=\"utf-8\" src=\"https://cdn.plot.ly/plotly-2.24.1.min.js\"></script>                <div id=\"96d8ad43-f9b2-4b95-8f4c-3899f393abc1\" class=\"plotly-graph-div\" style=\"height:525px; width:100%;\"></div>            <script type=\"text/javascript\">                                    window.PLOTLYENV=window.PLOTLYENV || {};                                    if (document.getElementById(\"96d8ad43-f9b2-4b95-8f4c-3899f393abc1\")) {                    Plotly.newPlot(                        \"96d8ad43-f9b2-4b95-8f4c-3899f393abc1\",                        [{\"alignmentgroup\":\"True\",\"hovertemplate\":\"Positive=False\\u003cbr\\u003eImportance scores=%{x}\\u003cbr\\u003eFeatures=%{y}\\u003cextra\\u003e\\u003c\\u002fextra\\u003e\",\"legendgroup\":\"False\",\"marker\":{\"color\":\"#DC143C\",\"pattern\":{\"shape\":\"\"}},\"name\":\"False\",\"offsetgroup\":\"False\",\"orientation\":\"h\",\"showlegend\":true,\"textposition\":\"auto\",\"x\":[-0.4422319162674623,-0.9095394741836256,-2.2335376637000044],\"xaxis\":\"x\",\"y\":[\"0 = -0.031\",\"1 = 0.051\",\"3 = -0.006\"],\"yaxis\":\"y\",\"type\":\"bar\"},{\"alignmentgroup\":\"True\",\"hovertemplate\":\"Positive=True\\u003cbr\\u003eImportance scores=%{x}\\u003cbr\\u003eFeatures=%{y}\\u003cextra\\u003e\\u003c\\u002fextra\\u003e\",\"legendgroup\":\"True\",\"marker\":{\"color\":\"#008B8B\",\"pattern\":{\"shape\":\"\"}},\"name\":\"True\",\"offsetgroup\":\"True\",\"orientation\":\"h\",\"showlegend\":true,\"textposition\":\"auto\",\"x\":[0.604930019721777,1.4447061707902706,1.759523428903341,1.8156536882616674,4.964694098653471,5.890734263912563,8.071313192297946],\"xaxis\":\"x\",\"y\":[\"9 = 0.003\",\"2 = 0.001\",\"5 = 0.049\",\"4 = 0.064\",\"6 = -0.047\",\"7 = 0.108\",\"8 = 0.084\"],\"yaxis\":\"y\",\"type\":\"bar\"}],                        {\"barmode\":\"relative\",\"legend\":{\"title\":{\"text\":\"Positive\"},\"tracegroupgap\":0},\"template\":{\"data\":{\"barpolar\":[{\"marker\":{\"line\":{\"color\":\"#E5ECF6\",\"width\":0.5},\"pattern\":{\"fillmode\":\"overlay\",\"size\":10,\"solidity\":0.2}},\"type\":\"barpolar\"}],\"bar\":[{\"error_x\":{\"color\":\"#2a3f5f\"},\"error_y\":{\"color\":\"#2a3f5f\"},\"marker\":{\"line\":{\"color\":\"#E5ECF6\",\"width\":0.5},\"pattern\":{\"fillmode\":\"overlay\",\"size\":10,\"solidity\":0.2}},\"type\":\"bar\"}],\"carpet\":[{\"aaxis\":{\"endlinecolor\":\"#2a3f5f\",\"gridcolor\":\"white\",\"linecolor\":\"white\",\"minorgridcolor\":\"white\",\"startlinecolor\":\"#2a3f5f\"},\"baxis\":{\"endlinecolor\":\"#2a3f5f\",\"gridcolor\":\"white\",\"linecolor\":\"white\",\"minorgridcolor\":\"white\",\"startlinecolor\":\"#2a3f5f\"},\"type\":\"carpet\"}],\"choropleth\":[{\"colorbar\":{\"outlinewidth\":0,\"ticks\":\"\"},\"type\":\"choropleth\"}],\"contourcarpet\":[{\"colorbar\":{\"outlinewidth\":0,\"ticks\":\"\"},\"type\":\"contourcarpet\"}],\"contour\":[{\"colorbar\":{\"outlinewidth\":0,\"ticks\":\"\"},\"colorscale\":[[0.0,\"#0d0887\"],[0.1111111111111111,\"#46039f\"],[0.2222222222222222,\"#7201a8\"],[0.3333333333333333,\"#9c179e\"],[0.4444444444444444,\"#bd3786\"],[0.5555555555555556,\"#d8576b\"],[0.6666666666666666,\"#ed7953\"],[0.7777777777777778,\"#fb9f3a\"],[0.8888888888888888,\"#fdca26\"],[1.0,\"#f0f921\"]],\"type\":\"contour\"}],\"heatmapgl\":[{\"colorbar\":{\"outlinewidth\":0,\"ticks\":\"\"},\"colorscale\":[[0.0,\"#0d0887\"],[0.1111111111111111,\"#46039f\"],[0.2222222222222222,\"#7201a8\"],[0.3333333333333333,\"#9c179e\"],[0.4444444444444444,\"#bd3786\"],[0.5555555555555556,\"#d8576b\"],[0.6666666666666666,\"#ed7953\"],[0.7777777777777778,\"#fb9f3a\"],[0.8888888888888888,\"#fdca26\"],[1.0,\"#f0f921\"]],\"type\":\"heatmapgl\"}],\"heatmap\":[{\"colorbar\":{\"outlinewidth\":0,\"ticks\":\"\"},\"colorscale\":[[0.0,\"#0d0887\"],[0.1111111111111111,\"#46039f\"],[0.2222222222222222,\"#7201a8\"],[0.3333333333333333,\"#9c179e\"],[0.4444444444444444,\"#bd3786\"],[0.5555555555555556,\"#d8576b\"],[0.6666666666666666,\"#ed7953\"],[0.7777777777777778,\"#fb9f3a\"],[0.8888888888888888,\"#fdca26\"],[1.0,\"#f0f921\"]],\"type\":\"heatmap\"}],\"histogram2dcontour\":[{\"colorbar\":{\"outlinewidth\":0,\"ticks\":\"\"},\"colorscale\":[[0.0,\"#0d0887\"],[0.1111111111111111,\"#46039f\"],[0.2222222222222222,\"#7201a8\"],[0.3333333333333333,\"#9c179e\"],[0.4444444444444444,\"#bd3786\"],[0.5555555555555556,\"#d8576b\"],[0.6666666666666666,\"#ed7953\"],[0.7777777777777778,\"#fb9f3a\"],[0.8888888888888888,\"#fdca26\"],[1.0,\"#f0f921\"]],\"type\":\"histogram2dcontour\"}],\"histogram2d\":[{\"colorbar\":{\"outlinewidth\":0,\"ticks\":\"\"},\"colorscale\":[[0.0,\"#0d0887\"],[0.1111111111111111,\"#46039f\"],[0.2222222222222222,\"#7201a8\"],[0.3333333333333333,\"#9c179e\"],[0.4444444444444444,\"#bd3786\"],[0.5555555555555556,\"#d8576b\"],[0.6666666666666666,\"#ed7953\"],[0.7777777777777778,\"#fb9f3a\"],[0.8888888888888888,\"#fdca26\"],[1.0,\"#f0f921\"]],\"type\":\"histogram2d\"}],\"histogram\":[{\"marker\":{\"pattern\":{\"fillmode\":\"overlay\",\"size\":10,\"solidity\":0.2}},\"type\":\"histogram\"}],\"mesh3d\":[{\"colorbar\":{\"outlinewidth\":0,\"ticks\":\"\"},\"type\":\"mesh3d\"}],\"parcoords\":[{\"line\":{\"colorbar\":{\"outlinewidth\":0,\"ticks\":\"\"}},\"type\":\"parcoords\"}],\"pie\":[{\"automargin\":true,\"type\":\"pie\"}],\"scatter3d\":[{\"line\":{\"colorbar\":{\"outlinewidth\":0,\"ticks\":\"\"}},\"marker\":{\"colorbar\":{\"outlinewidth\":0,\"ticks\":\"\"}},\"type\":\"scatter3d\"}],\"scattercarpet\":[{\"marker\":{\"colorbar\":{\"outlinewidth\":0,\"ticks\":\"\"}},\"type\":\"scattercarpet\"}],\"scattergeo\":[{\"marker\":{\"colorbar\":{\"outlinewidth\":0,\"ticks\":\"\"}},\"type\":\"scattergeo\"}],\"scattergl\":[{\"marker\":{\"colorbar\":{\"outlinewidth\":0,\"ticks\":\"\"}},\"type\":\"scattergl\"}],\"scattermapbox\":[{\"marker\":{\"colorbar\":{\"outlinewidth\":0,\"ticks\":\"\"}},\"type\":\"scattermapbox\"}],\"scatterpolargl\":[{\"marker\":{\"colorbar\":{\"outlinewidth\":0,\"ticks\":\"\"}},\"type\":\"scatterpolargl\"}],\"scatterpolar\":[{\"marker\":{\"colorbar\":{\"outlinewidth\":0,\"ticks\":\"\"}},\"type\":\"scatterpolar\"}],\"scatter\":[{\"fillpattern\":{\"fillmode\":\"overlay\",\"size\":10,\"solidity\":0.2},\"type\":\"scatter\"}],\"scatterternary\":[{\"marker\":{\"colorbar\":{\"outlinewidth\":0,\"ticks\":\"\"}},\"type\":\"scatterternary\"}],\"surface\":[{\"colorbar\":{\"outlinewidth\":0,\"ticks\":\"\"},\"colorscale\":[[0.0,\"#0d0887\"],[0.1111111111111111,\"#46039f\"],[0.2222222222222222,\"#7201a8\"],[0.3333333333333333,\"#9c179e\"],[0.4444444444444444,\"#bd3786\"],[0.5555555555555556,\"#d8576b\"],[0.6666666666666666,\"#ed7953\"],[0.7777777777777778,\"#fb9f3a\"],[0.8888888888888888,\"#fdca26\"],[1.0,\"#f0f921\"]],\"type\":\"surface\"}],\"table\":[{\"cells\":{\"fill\":{\"color\":\"#EBF0F8\"},\"line\":{\"color\":\"white\"}},\"header\":{\"fill\":{\"color\":\"#C8D4E3\"},\"line\":{\"color\":\"white\"}},\"type\":\"table\"}]},\"layout\":{\"annotationdefaults\":{\"arrowcolor\":\"#2a3f5f\",\"arrowhead\":0,\"arrowwidth\":1},\"autotypenumbers\":\"strict\",\"coloraxis\":{\"colorbar\":{\"outlinewidth\":0,\"ticks\":\"\"}},\"colorscale\":{\"diverging\":[[0,\"#8e0152\"],[0.1,\"#c51b7d\"],[0.2,\"#de77ae\"],[0.3,\"#f1b6da\"],[0.4,\"#fde0ef\"],[0.5,\"#f7f7f7\"],[0.6,\"#e6f5d0\"],[0.7,\"#b8e186\"],[0.8,\"#7fbc41\"],[0.9,\"#4d9221\"],[1,\"#276419\"]],\"sequential\":[[0.0,\"#0d0887\"],[0.1111111111111111,\"#46039f\"],[0.2222222222222222,\"#7201a8\"],[0.3333333333333333,\"#9c179e\"],[0.4444444444444444,\"#bd3786\"],[0.5555555555555556,\"#d8576b\"],[0.6666666666666666,\"#ed7953\"],[0.7777777777777778,\"#fb9f3a\"],[0.8888888888888888,\"#fdca26\"],[1.0,\"#f0f921\"]],\"sequentialminus\":[[0.0,\"#0d0887\"],[0.1111111111111111,\"#46039f\"],[0.2222222222222222,\"#7201a8\"],[0.3333333333333333,\"#9c179e\"],[0.4444444444444444,\"#bd3786\"],[0.5555555555555556,\"#d8576b\"],[0.6666666666666666,\"#ed7953\"],[0.7777777777777778,\"#fb9f3a\"],[0.8888888888888888,\"#fdca26\"],[1.0,\"#f0f921\"]]},\"colorway\":[\"#636efa\",\"#EF553B\",\"#00cc96\",\"#ab63fa\",\"#FFA15A\",\"#19d3f3\",\"#FF6692\",\"#B6E880\",\"#FF97FF\",\"#FECB52\"],\"font\":{\"color\":\"#2a3f5f\"},\"geo\":{\"bgcolor\":\"white\",\"lakecolor\":\"white\",\"landcolor\":\"#E5ECF6\",\"showlakes\":true,\"showland\":true,\"subunitcolor\":\"white\"},\"hoverlabel\":{\"align\":\"left\"},\"hovermode\":\"closest\",\"mapbox\":{\"style\":\"light\"},\"paper_bgcolor\":\"white\",\"plot_bgcolor\":\"#E5ECF6\",\"polar\":{\"angularaxis\":{\"gridcolor\":\"white\",\"linecolor\":\"white\",\"ticks\":\"\"},\"bgcolor\":\"#E5ECF6\",\"radialaxis\":{\"gridcolor\":\"white\",\"linecolor\":\"white\",\"ticks\":\"\"}},\"scene\":{\"xaxis\":{\"backgroundcolor\":\"#E5ECF6\",\"gridcolor\":\"white\",\"gridwidth\":2,\"linecolor\":\"white\",\"showbackground\":true,\"ticks\":\"\",\"zerolinecolor\":\"white\"},\"yaxis\":{\"backgroundcolor\":\"#E5ECF6\",\"gridcolor\":\"white\",\"gridwidth\":2,\"linecolor\":\"white\",\"showbackground\":true,\"ticks\":\"\",\"zerolinecolor\":\"white\"},\"zaxis\":{\"backgroundcolor\":\"#E5ECF6\",\"gridcolor\":\"white\",\"gridwidth\":2,\"linecolor\":\"white\",\"showbackground\":true,\"ticks\":\"\",\"zerolinecolor\":\"white\"}},\"shapedefaults\":{\"line\":{\"color\":\"#2a3f5f\"}},\"ternary\":{\"aaxis\":{\"gridcolor\":\"white\",\"linecolor\":\"white\",\"ticks\":\"\"},\"baxis\":{\"gridcolor\":\"white\",\"linecolor\":\"white\",\"ticks\":\"\"},\"bgcolor\":\"#E5ECF6\",\"caxis\":{\"gridcolor\":\"white\",\"linecolor\":\"white\",\"ticks\":\"\"}},\"title\":{\"x\":0.05},\"xaxis\":{\"automargin\":true,\"gridcolor\":\"white\",\"linecolor\":\"white\",\"ticks\":\"\",\"title\":{\"standoff\":15},\"zerolinecolor\":\"white\",\"zerolinewidth\":2},\"yaxis\":{\"automargin\":true,\"gridcolor\":\"white\",\"linecolor\":\"white\",\"ticks\":\"\",\"title\":{\"standoff\":15},\"zerolinecolor\":\"white\",\"zerolinewidth\":2}}},\"title\":{\"text\":\"Instance 1\"},\"xaxis\":{\"anchor\":\"y\",\"domain\":[0.0,1.0],\"title\":{\"text\":\"Importance scores\"}},\"yaxis\":{\"anchor\":\"x\",\"domain\":[0.0,1.0],\"title\":{\"text\":\"Features\"}}},                        {\"responsive\": true}                    ).then(function(){\n",
              "                            \n",
              "var gd = document.getElementById('96d8ad43-f9b2-4b95-8f4c-3899f393abc1');\n",
              "var x = new MutationObserver(function (mutations, observer) {{\n",
              "        var display = window.getComputedStyle(gd).display;\n",
              "        if (!display || display === 'none') {{\n",
              "            console.log([gd, 'removed!']);\n",
              "            Plotly.purge(gd);\n",
              "            observer.disconnect();\n",
              "        }}\n",
              "}});\n",
              "\n",
              "// Listen for the removal of the full notebook cells\n",
              "var notebookContainer = gd.closest('#notebook-container');\n",
              "if (notebookContainer) {{\n",
              "    x.observe(notebookContainer, {childList: true});\n",
              "}}\n",
              "\n",
              "// Listen for the clearing of the current output cell\n",
              "var outputEl = gd.closest('.output');\n",
              "if (outputEl) {{\n",
              "    x.observe(outputEl, {childList: true});\n",
              "}}\n",
              "\n",
              "                        })                };                            </script>        </div>\n",
              "</body>\n",
              "</html>"
            ]
          },
          "metadata": {}
        }
      ]
    },
    {
      "cell_type": "markdown",
      "source": [
        "Calculate similarity between explainers using the Shreyan Distance"
      ],
      "metadata": {
        "id": "JfU4aReJip4V"
      }
    },
    {
      "cell_type": "code",
      "source": [
        "from sklearn.svm import SVR\n",
        "load_data = DataLoader(load_diabetes, return_X_y = True)\n",
        "process_data = DataProcessor(load_data, test_size = 0.1)\n",
        "train_model = ModelTrainer(SVR, process_data, explainers = {\"lime\": {\"feature_selection\": \"none\"}, \"shap\": {}}, epsilon = 0.2)\n",
        "explanations = train_model.getExplanationsFor([])\n",
        "\n",
        "insights = InsightGenerator(explanations)\n",
        "print(insights.calculateExplainerSimilarity(\"lime\", \"shap\"))"
      ],
      "metadata": {
        "colab": {
          "base_uri": "https://localhost:8080/",
          "height": 100,
          "referenced_widgets": [
            "3ebf3bfb23504021a190bf75312d3790",
            "d456fe252c894cc3b1be6159a04ab21a",
            "9e6d207ccfdd491ba97003e6aa009e2f",
            "e0b3b4b2b85946bb9b050d6e6a566212",
            "1fd161404a624d229ca2ebdb68c9fc0f",
            "c597397aa997410e8db89e59234b9b38",
            "ab925625a6a64159aa8c5758d9b01dd0",
            "ac090a9ad9fc46b8bc4bd72448b1fd17",
            "deec184677bc4d61bb397815eba05f32",
            "98811b39f51f495ba6b87e005f87840d",
            "933a4c9ea31d41059527cced44027e84"
          ]
        },
        "id": "wvHQbprlcnW0",
        "outputId": "0402ccee-9fe7-4b14-c107-0c464937a40f"
      },
      "execution_count": null,
      "outputs": [
        {
          "output_type": "stream",
          "name": "stdout",
          "text": [
            "Model score is 0.14626289816154203\n",
            "Generating explanations.\n"
          ]
        },
        {
          "output_type": "display_data",
          "data": {
            "text/plain": [
              "  0%|          | 0/45 [00:00<?, ?it/s]"
            ],
            "application/vnd.jupyter.widget-view+json": {
              "version_major": 2,
              "version_minor": 0,
              "model_id": "3ebf3bfb23504021a190bf75312d3790"
            }
          },
          "metadata": {}
        },
        {
          "output_type": "stream",
          "name": "stdout",
          "text": [
            "0.8081355932203389\n"
          ]
        }
      ]
    },
    {
      "cell_type": "markdown",
      "source": [
        "*NOTE*: For examples using tensorflow or pytorch models, check out our other demos."
      ],
      "metadata": {
        "id": "sE4tpr0kXM24"
      }
    }
  ]
}